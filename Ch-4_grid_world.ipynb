{
 "cells": [
  {
   "cell_type": "markdown",
   "metadata": {},
   "source": [
    "# Grid World"
   ]
  },
  {
   "cell_type": "code",
   "execution_count": 1,
   "metadata": {},
   "outputs": [],
   "source": [
    "import numpy as np\n",
    "import matplotlib.pyplot as plt\n",
    "import math\n",
    "from matplotlib.table import Table"
   ]
  },
  {
   "cell_type": "code",
   "execution_count": 2,
   "metadata": {},
   "outputs": [],
   "source": [
    "ACTIONS=[np.array([0,1]),np.array([0,-1]),np.array([-1,0]),np.array([1,0])]  #up,down,left, right as per coordinate axis (+y,-y,+x,-x)\n",
    "\n",
    "WORLD=4 #4x4\n",
    "\n",
    "ACTION_PROB=0.25 #all are equally likely\n",
    "\n",
    "REWARD=-1  #given"
   ]
  },
  {
   "cell_type": "code",
   "execution_count": 3,
   "metadata": {},
   "outputs": [],
   "source": [
    "def terminate(state):\n",
    "    x,y=state #state is a numpy list array\n",
    "\n",
    "    return (x == 0 and y == 0) or (x == WORLD- 1 and y == WORLD- 1)  #if it's in the first block or in the last one\n"
   ]
  },
  {
   "cell_type": "code",
   "execution_count": 4,
   "metadata": {},
   "outputs": [],
   "source": [
    "def step(state, action):\n",
    "    if terminate(state):\n",
    "        return state, 0\n",
    "\n",
    "    next_state=(np.array(state)+action).tolist()\n",
    "    x,y=next_state\n",
    "\n",
    "    if x < 0 or x >= WORLD or y < 0 or y >= WORLD:\n",
    "        next_state = state  #basically if it's getting out of the grid\n",
    "\n",
    "    reward=REWARD\n",
    "    return next_state, reward"
   ]
  },
  {
   "cell_type": "code",
   "execution_count": 5,
   "metadata": {},
   "outputs": [],
   "source": [
    "#values will be those inside the boxes\n",
    "def state_value(in_place,discount=1):  #undiscounted as given, in_place concept was given in the sutton-barto book, hence included.\n",
    "    new_state_val=np.zeros((WORLD,WORLD))  #constructing the world\n",
    "    iteration=0  #initiated to 0\n",
    "    while True:\n",
    "        if in_place:\n",
    "            state_val=new_state_val\n",
    "        else:\n",
    "            state_val=new_state_val.copy()\n",
    "        old_state_val=state_val.copy()\n",
    "\n",
    "        for i in range(WORLD):\n",
    "            for j in range(WORLD):\n",
    "                value=0\n",
    "                for action in ACTIONS:\n",
    "                    (next_i, next_j), reward=step([i,j], action)\n",
    "                    value+=ACTION_PROB*(reward+discount*state_val[next_i, next_j])  #computing the state value!\n",
    "                new_state_val[i,j]=value\n",
    "\n",
    "        max_delta_val=abs(old_state_val-new_state_val).max()  #computing the error/difference\n",
    "        if max_delta_val<1e-4:\n",
    "            break\n",
    "        iteration+=1\n",
    "    return new_state_val, iteration"
   ]
  },
  {
   "cell_type": "code",
   "execution_count": 6,
   "metadata": {},
   "outputs": [
    {
     "name": "stdout",
     "output_type": "stream",
     "text": [
      "In-place: 113 iterations\n"
     ]
    },
    {
     "data": {
      "image/png": "[encoded data removed]",
      "text/plain": [
       "<Figure size 640x480 with 1 Axes>"
      ]
     },
     "metadata": {},
     "output_type": "display_data"
    }
   ],
   "source": [
    "values,iter_1=state_value(in_place=True)\n",
    "# values, iter_2=state_value(in_place=False)\n",
    "\n",
    "#Making the grid:\n",
    "fig,axes=plt.subplots()\n",
    "axes.set_axis_off()\n",
    "table=Table(axes, bbox=[0,0,1,1])\n",
    "\n",
    "#shape\n",
    "col,row=values.shape\n",
    "width,height=1.0/col, 1.0/row\n",
    "\n",
    "#cells:\n",
    "for (i,j),val in np.ndenumerate(np.round(values, 2)):# had to use the same logic given in github since iterating over 3 loops was taking time, and also was giving errors frequently\n",
    "    table.add_cell(i,j,width, height, text=val, loc='center', facecolor='white')\n",
    "#rows and columns labels:\n",
    "for i in range(len(values)):  \n",
    "    table.add_cell(i,-1, width, height, text=i+1, loc='right',edgecolor='none',facecolor='none')\n",
    "    table.add_cell(-1,i, width, height/2, text=i+1, loc='center', edgecolor='none',facecolor='none')\n",
    "axes.add_table(table)\n",
    "\n",
    "print('In-place: {} iterations'.format(iter_1))\n",
    "# print('Synchronous: {} iterations'.format(iter_2))\n",
    "\n",
    "plt.show()"
   ]
  }
 ],
 "metadata": {
  "kernelspec": {
   "display_name": "Python 3.8.10 ('rl': venv)",
   "language": "python",
   "name": "python3"
  },
  "language_info": {
   "codemirror_mode": {
    "name": "ipython",
    "version": 3
   },
   "file_extension": ".py",
   "mimetype": "text/x-python",
   "name": "python",
   "nbconvert_exporter": "python",
   "pygments_lexer": "ipython3",
   "version": "3.8.10"
  },
  "orig_nbformat": 4,
  "vscode": {
   "interpreter": {
    "hash": "91056ceca18f3742692e531ac77dd2332f9b340e88e4bc7335dfe645a56e75e8"
   }
  }
 },
 "nbformat": 4,
 "nbformat_minor": 2
}
